{
  "nbformat": 4,
  "nbformat_minor": 0,
  "metadata": {
    "colab": {
      "provenance": [],
      "authorship_tag": "ABX9TyMpbjPVMPoB+9DDBxB9Oxo8",
      "include_colab_link": true
    },
    "kernelspec": {
      "name": "python3",
      "display_name": "Python 3"
    },
    "language_info": {
      "name": "python"
    }
  },
  "cells": [
    {
      "cell_type": "markdown",
      "metadata": {
        "id": "view-in-github",
        "colab_type": "text"
      },
      "source": [
        "<a href=\"https://colab.research.google.com/github/barisetiawan51-code/LLM-RAG-Gemini_Contract-Hacktiv8/blob/main/LLM_RAG_Gemini_Hacktiv8_IBS.ipynb\" target=\"_parent\"><img src=\"https://colab.research.google.com/assets/colab-badge.svg\" alt=\"Open In Colab\"/></a>"
      ]
    },
    {
      "cell_type": "markdown",
      "source": [
        "# Install Library"
      ],
      "metadata": {
        "id": "bNNccxWJ8Qxv"
      }
    },
    {
      "cell_type": "code",
      "source": [
        "!pip install faiss-cpu numpy\n",
        "!pip install PyMuPDF\n",
        "!pip install PyPDF2 tqdm pandas\n",
        "!pip install faiss-cpu\n",
        "!pip install pypdf\n",
        "!pip install -U langchain langchain-google-genai google-generativeai --quiet"
      ],
      "metadata": {
        "colab": {
          "base_uri": "https://localhost:8080/"
        },
        "id": "SBX1g-5p8UiM",
        "outputId": "33f19a18-b16f-415e-923c-e7890fedd705"
      },
      "execution_count": null,
      "outputs": [
        {
          "output_type": "stream",
          "name": "stdout",
          "text": [
            "Collecting faiss-cpu\n",
            "  Downloading faiss_cpu-1.12.0-cp312-cp312-manylinux_2_27_x86_64.manylinux_2_28_x86_64.whl.metadata (5.1 kB)\n",
            "Requirement already satisfied: numpy in /usr/local/lib/python3.12/dist-packages (2.0.2)\n",
            "Requirement already satisfied: packaging in /usr/local/lib/python3.12/dist-packages (from faiss-cpu) (25.0)\n",
            "Downloading faiss_cpu-1.12.0-cp312-cp312-manylinux_2_27_x86_64.manylinux_2_28_x86_64.whl (31.4 MB)\n",
            "\u001b[2K   \u001b[90m━━━━━━━━━━━━━━━━━━━━━━━━━━━━━━━━━━━━━━━━\u001b[0m \u001b[32m31.4/31.4 MB\u001b[0m \u001b[31m41.7 MB/s\u001b[0m eta \u001b[36m0:00:00\u001b[0m\n",
            "\u001b[?25hInstalling collected packages: faiss-cpu\n",
            "Successfully installed faiss-cpu-1.12.0\n",
            "Collecting PyMuPDF\n",
            "  Downloading pymupdf-1.26.5-cp39-abi3-manylinux_2_28_x86_64.whl.metadata (3.4 kB)\n",
            "Downloading pymupdf-1.26.5-cp39-abi3-manylinux_2_28_x86_64.whl (24.1 MB)\n",
            "\u001b[2K   \u001b[90m━━━━━━━━━━━━━━━━━━━━━━━━━━━━━━━━━━━━━━━━\u001b[0m \u001b[32m24.1/24.1 MB\u001b[0m \u001b[31m73.7 MB/s\u001b[0m eta \u001b[36m0:00:00\u001b[0m\n",
            "\u001b[?25hInstalling collected packages: PyMuPDF\n",
            "Successfully installed PyMuPDF-1.26.5\n",
            "Collecting PyPDF2\n",
            "  Downloading pypdf2-3.0.1-py3-none-any.whl.metadata (6.8 kB)\n",
            "Requirement already satisfied: tqdm in /usr/local/lib/python3.12/dist-packages (4.67.1)\n",
            "Requirement already satisfied: pandas in /usr/local/lib/python3.12/dist-packages (2.2.2)\n",
            "Requirement already satisfied: numpy>=1.26.0 in /usr/local/lib/python3.12/dist-packages (from pandas) (2.0.2)\n",
            "Requirement already satisfied: python-dateutil>=2.8.2 in /usr/local/lib/python3.12/dist-packages (from pandas) (2.9.0.post0)\n",
            "Requirement already satisfied: pytz>=2020.1 in /usr/local/lib/python3.12/dist-packages (from pandas) (2025.2)\n",
            "Requirement already satisfied: tzdata>=2022.7 in /usr/local/lib/python3.12/dist-packages (from pandas) (2025.2)\n",
            "Requirement already satisfied: six>=1.5 in /usr/local/lib/python3.12/dist-packages (from python-dateutil>=2.8.2->pandas) (1.17.0)\n",
            "Downloading pypdf2-3.0.1-py3-none-any.whl (232 kB)\n",
            "\u001b[2K   \u001b[90m━━━━━━━━━━━━━━━━━━━━━━━━━━━━━━━━━━━━━━━━\u001b[0m \u001b[32m232.6/232.6 kB\u001b[0m \u001b[31m5.8 MB/s\u001b[0m eta \u001b[36m0:00:00\u001b[0m\n",
            "\u001b[?25hInstalling collected packages: PyPDF2\n",
            "Successfully installed PyPDF2-3.0.1\n",
            "Requirement already satisfied: faiss-cpu in /usr/local/lib/python3.12/dist-packages (1.12.0)\n",
            "Requirement already satisfied: numpy<3.0,>=1.25.0 in /usr/local/lib/python3.12/dist-packages (from faiss-cpu) (2.0.2)\n",
            "Requirement already satisfied: packaging in /usr/local/lib/python3.12/dist-packages (from faiss-cpu) (25.0)\n",
            "Collecting pypdf\n",
            "  Downloading pypdf-6.1.1-py3-none-any.whl.metadata (7.1 kB)\n",
            "Downloading pypdf-6.1.1-py3-none-any.whl (323 kB)\n",
            "\u001b[2K   \u001b[90m━━━━━━━━━━━━━━━━━━━━━━━━━━━━━━━━━━━━━━━━\u001b[0m \u001b[32m323.5/323.5 kB\u001b[0m \u001b[31m6.4 MB/s\u001b[0m eta \u001b[36m0:00:00\u001b[0m\n",
            "\u001b[?25hInstalling collected packages: pypdf\n",
            "Successfully installed pypdf-6.1.1\n",
            "\u001b[2K   \u001b[90m━━━━━━━━━━━━━━━━━━━━━━━━━━━━━━━━━━━━━━━━\u001b[0m \u001b[32m42.0/42.0 kB\u001b[0m \u001b[31m1.6 MB/s\u001b[0m eta \u001b[36m0:00:00\u001b[0m\n",
            "\u001b[?25h"
          ]
        }
      ]
    },
    {
      "cell_type": "markdown",
      "source": [
        "# Load Data from Google Drive"
      ],
      "metadata": {
        "id": "8RW1HP1Ouhm_"
      }
    },
    {
      "cell_type": "code",
      "execution_count": null,
      "metadata": {
        "colab": {
          "base_uri": "https://localhost:8080/"
        },
        "id": "gU1xD0o1t6CJ",
        "outputId": "01ce3601-7262-475a-fee6-b7652d63156c"
      },
      "outputs": [
        {
          "output_type": "stream",
          "name": "stdout",
          "text": [
            "Mounted at /content/drive\n"
          ]
        }
      ],
      "source": [
        "from google.colab import drive\n",
        "drive.mount('/content/drive')"
      ]
    },
    {
      "cell_type": "markdown",
      "source": [
        "# Data Understanding"
      ],
      "metadata": {
        "id": "VISV4uOnKLt-"
      }
    },
    {
      "cell_type": "code",
      "source": [
        "import os\n",
        "\n",
        "folder_path = \"/content/drive/MyDrive/Project Portofolio/LLM-RAG-Gemini-Hacktiv8/Dataset/Contracts_30_English/\"\n",
        "pdf_files = [os.path.join(folder_path, f) for f in os.listdir(folder_path) if f.endswith(\".pdf\")]"
      ],
      "metadata": {
        "id": "kaHKu0gmumnT"
      },
      "execution_count": null,
      "outputs": []
    },
    {
      "cell_type": "code",
      "source": [
        "import fitz\n",
        "\n",
        "print(f\"Total dokumen: {len(pdf_files)}\")\n",
        "print(pdf_files[:5])"
      ],
      "metadata": {
        "colab": {
          "base_uri": "https://localhost:8080/"
        },
        "id": "BrCNL9hnJSxB",
        "outputId": "a7f5acb5-7df8-4706-af5e-d7836545103d"
      },
      "execution_count": null,
      "outputs": [
        {
          "output_type": "stream",
          "name": "stdout",
          "text": [
            "Total dokumen: 30\n",
            "['/content/drive/MyDrive/Project Portofolio/LLM-RAG-Gemini-Hacktiv8/Dataset/Contracts_30_English/Contract_14.pdf', '/content/drive/MyDrive/Project Portofolio/LLM-RAG-Gemini-Hacktiv8/Dataset/Contracts_30_English/Contract_17.pdf', '/content/drive/MyDrive/Project Portofolio/LLM-RAG-Gemini-Hacktiv8/Dataset/Contracts_30_English/Contract_4.pdf', '/content/drive/MyDrive/Project Portofolio/LLM-RAG-Gemini-Hacktiv8/Dataset/Contracts_30_English/Contract_29.pdf', '/content/drive/MyDrive/Project Portofolio/LLM-RAG-Gemini-Hacktiv8/Dataset/Contracts_30_English/Contract_27.pdf']\n"
          ]
        }
      ]
    },
    {
      "cell_type": "code",
      "source": [
        "# Baca sampel isi\n",
        "with fitz.open(os.path.join(folder_path, pdf_files[0])) as doc:\n",
        "    print(doc[0].get_text()[:500])"
      ],
      "metadata": {
        "colab": {
          "base_uri": "https://localhost:8080/"
        },
        "id": "3Q74KTvGJqUo",
        "outputId": "7673dc99-660b-492c-9090-029f58cee5a4"
      },
      "execution_count": null,
      "outputs": [
        {
          "output_type": "stream",
          "name": "stdout",
          "text": [
            "REAL ESTATE FINANCING AGREEMENT\n",
            "BORROWER: Carlos Brown, residing at 456 Central Avenue - Los Angeles, CA, holder of SSN\n",
            "nº 867542169.\n",
            "LENDER: FINANCIAL BANK OF AMERICA Inc., registered under EIN nº 00-0000000,\n",
            "headquartered at 1000 Main Avenue, New York, NY.\n",
            "FINANCED AMOUNT: $1,203,432.00.\n",
            "CLAUSE ONE – PURPOSE: This agreement aims to grant financing to the BORROWER for the\n",
            "acquisition of the asset described in the preamble.\n",
            "CLAUSE TWO – TERM: The financing period shall be up to 60 months, unless\n"
          ]
        }
      ]
    },
    {
      "cell_type": "markdown",
      "source": [
        "# Data Preparation"
      ],
      "metadata": {
        "id": "BWyV06AtKSK8"
      }
    },
    {
      "cell_type": "code",
      "source": [
        "artifact_folder = \"/content/drive/MyDrive/Project Portofolio/LLM-RAG-Gemini-Hacktiv8/LLM_RAG_artifacts/\"\n",
        "os.makedirs(artifact_folder, exist_ok=True)"
      ],
      "metadata": {
        "id": "LSvyACz1P7on"
      },
      "execution_count": null,
      "outputs": []
    },
    {
      "cell_type": "code",
      "source": [
        "import PyPDF2, os, pandas as pd\n",
        "from tqdm import tqdm\n",
        "\n",
        "def extract_text_from_pdf(pdf_path):\n",
        "    text = \"\"\n",
        "    with open(pdf_path, \"rb\") as f:\n",
        "        reader = PyPDF2.PdfReader(f)\n",
        "        for page in reader.pages:\n",
        "            text += page.extract_text() + \"\\n\"\n",
        "    return text\n",
        "\n",
        "# Ekstrak semua PDF\n",
        "data = []\n",
        "for pdf in tqdm(pdf_files):\n",
        "    with open(pdf, \"rb\") as f:\n",
        "        reader = PyPDF2.PdfReader(f)\n",
        "        for page_num, page in enumerate(reader.pages, start=1):\n",
        "            text = page.extract_text() or \"\"\n",
        "            data.append({\n",
        "                \"filename\": os.path.basename(pdf),\n",
        "                \"page_number\": page_num,\n",
        "                \"text\": text\n",
        "            })\n",
        "\n",
        "df = pd.DataFrame(data)\n",
        "print(df.head())\n",
        "\n",
        "# Split menjadi potongan kecil (chunk)\n",
        "def chunk_text(text, chunk_size=1000, overlap=100):\n",
        "    chunks = []\n",
        "    for i in range(0, len(text), chunk_size - overlap):\n",
        "        start_idx = i\n",
        "        end_idx = min(i + chunk_size, len(text))\n",
        "        chunks.append((text[start_idx:end_idx], start_idx, end_idx))\n",
        "    return chunks\n",
        "\n",
        "chunks = []\n",
        "for _, row in df.iterrows():\n",
        "    for chunk_id, (chunk, start, end) in enumerate(chunk_text(row[\"text\"])):\n",
        "        chunks.append({\n",
        "            \"filename\": row[\"filename\"],\n",
        "            \"page_number\": row[\"page_number\"],\n",
        "            \"chunk_id\": chunk_id,\n",
        "            \"start_idx\": start,\n",
        "            \"end_idx\": end,\n",
        "            \"text\": chunk\n",
        "        })\n",
        "\n",
        "chunks_df = pd.DataFrame(chunks)"
      ],
      "metadata": {
        "colab": {
          "base_uri": "https://localhost:8080/"
        },
        "id": "Svs_9wKUY9Zi",
        "outputId": "dc47afdd-60bf-406a-b57c-cc689267917e"
      },
      "execution_count": null,
      "outputs": [
        {
          "output_type": "stream",
          "name": "stderr",
          "text": [
            "100%|██████████| 30/30 [00:09<00:00,  3.30it/s]"
          ]
        },
        {
          "output_type": "stream",
          "name": "stdout",
          "text": [
            "          filename  page_number  \\\n",
            "0  Contract_14.pdf            1   \n",
            "1  Contract_14.pdf            2   \n",
            "2  Contract_14.pdf            3   \n",
            "3  Contract_17.pdf            1   \n",
            "4  Contract_17.pdf            2   \n",
            "\n",
            "                                                text  \n",
            "0  REAL ESTATE FINANCING AGREEMENT\\n \\nBORROWER: ...  \n",
            "1  CLAUSE ONE – PURPOSE: This agreement aims to g...  \n",
            "2  CLAUSE ONE – PURPOSE: This agreement aims to g...  \n",
            "3  STUDENT LOAN AGREEMENT\\n \\nBORROWER: Richard T...  \n",
            "4  CLAUSE ONE – PURPOSE: This agreement aims to g...  \n"
          ]
        },
        {
          "output_type": "stream",
          "name": "stderr",
          "text": [
            "\n"
          ]
        }
      ]
    },
    {
      "cell_type": "code",
      "source": [
        "chunks[5]"
      ],
      "metadata": {
        "colab": {
          "base_uri": "https://localhost:8080/"
        },
        "id": "q85EqjQXPevA",
        "outputId": "b9cbc4ed-e180-42a1-bad7-6e017c8143a8"
      },
      "execution_count": null,
      "outputs": [
        {
          "output_type": "execute_result",
          "data": {
            "text/plain": [
              "{'filename': 'Contract_14.pdf',\n",
              " 'page_number': 3,\n",
              " 'chunk_id': 1,\n",
              " 'start_idx': 900,\n",
              " 'end_idx': 1320,\n",
              " 'text': 'will result in termination of the\\nagreement and enforcement of the guarantees, regardless of notification.\\nCLAUSE EIGHT – JURISDICTION: The parties elect the Courts of New York, NY, to settle any\\ndisputes arising from this agreement.\\nNew York, August 05, 2025\\n_________________________________________\\nCarlos Brown – BORROWER\\n_________________________________________\\nRepresentative – FINANCIAL BANK OF AMERICA (LENDER)\\n'}"
            ]
          },
          "metadata": {},
          "execution_count": 7
        }
      ]
    },
    {
      "cell_type": "code",
      "source": [
        "print(f\"✅ Jumlah potongan teks: {len(chunks_df)} dari {len(pdf_files)} file.\")\n",
        "chunks_df.head(10)"
      ],
      "metadata": {
        "colab": {
          "base_uri": "https://localhost:8080/",
          "height": 554
        },
        "id": "S51Z2ng3QTSg",
        "outputId": "9dcd4fdc-0999-445a-c122-2ad258a0802d"
      },
      "execution_count": null,
      "outputs": [
        {
          "output_type": "stream",
          "name": "stdout",
          "text": [
            "✅ Jumlah potongan teks: 180 dari 30 file.\n"
          ]
        },
        {
          "output_type": "execute_result",
          "data": {
            "text/plain": [
              "          filename  page_number  chunk_id  start_idx  end_idx  \\\n",
              "0  Contract_14.pdf            1         0          0     1000   \n",
              "1  Contract_14.pdf            1         1        900     1427   \n",
              "2  Contract_14.pdf            2         0          0     1000   \n",
              "3  Contract_14.pdf            2         1        900     1134   \n",
              "4  Contract_14.pdf            3         0          0     1000   \n",
              "5  Contract_14.pdf            3         1        900     1320   \n",
              "6  Contract_17.pdf            1         0          0     1000   \n",
              "7  Contract_17.pdf            1         1        900     1417   \n",
              "8  Contract_17.pdf            2         0          0     1000   \n",
              "9  Contract_17.pdf            2         1        900     1134   \n",
              "\n",
              "                                                text  \n",
              "0  REAL ESTATE FINANCING AGREEMENT\\n \\nBORROWER: ...  \n",
              "1  e for the\\nfinanced asset, with minimum covera...  \n",
              "2  CLAUSE ONE – PURPOSE: This agreement aims to g...  \n",
              "3  will result in termination of the\\nagreement a...  \n",
              "4  CLAUSE ONE – PURPOSE: This agreement aims to g...  \n",
              "5  will result in termination of the\\nagreement a...  \n",
              "6  STUDENT LOAN AGREEMENT\\n \\nBORROWER: Richard T...  \n",
              "7  financed asset, with minimum coverage as requi...  \n",
              "8  CLAUSE ONE – PURPOSE: This agreement aims to g...  \n",
              "9  will result in termination of the\\nagreement a...  "
            ],
            "text/html": [
              "\n",
              "  <div id=\"df-92eac7c6-e4d3-41eb-b778-d688afa8c5b8\" class=\"colab-df-container\">\n",
              "    <div>\n",
              "<style scoped>\n",
              "    .dataframe tbody tr th:only-of-type {\n",
              "        vertical-align: middle;\n",
              "    }\n",
              "\n",
              "    .dataframe tbody tr th {\n",
              "        vertical-align: top;\n",
              "    }\n",
              "\n",
              "    .dataframe thead th {\n",
              "        text-align: right;\n",
              "    }\n",
              "</style>\n",
              "<table border=\"1\" class=\"dataframe\">\n",
              "  <thead>\n",
              "    <tr style=\"text-align: right;\">\n",
              "      <th></th>\n",
              "      <th>filename</th>\n",
              "      <th>page_number</th>\n",
              "      <th>chunk_id</th>\n",
              "      <th>start_idx</th>\n",
              "      <th>end_idx</th>\n",
              "      <th>text</th>\n",
              "    </tr>\n",
              "  </thead>\n",
              "  <tbody>\n",
              "    <tr>\n",
              "      <th>0</th>\n",
              "      <td>Contract_14.pdf</td>\n",
              "      <td>1</td>\n",
              "      <td>0</td>\n",
              "      <td>0</td>\n",
              "      <td>1000</td>\n",
              "      <td>REAL ESTATE FINANCING AGREEMENT\\n \\nBORROWER: ...</td>\n",
              "    </tr>\n",
              "    <tr>\n",
              "      <th>1</th>\n",
              "      <td>Contract_14.pdf</td>\n",
              "      <td>1</td>\n",
              "      <td>1</td>\n",
              "      <td>900</td>\n",
              "      <td>1427</td>\n",
              "      <td>e for the\\nfinanced asset, with minimum covera...</td>\n",
              "    </tr>\n",
              "    <tr>\n",
              "      <th>2</th>\n",
              "      <td>Contract_14.pdf</td>\n",
              "      <td>2</td>\n",
              "      <td>0</td>\n",
              "      <td>0</td>\n",
              "      <td>1000</td>\n",
              "      <td>CLAUSE ONE – PURPOSE: This agreement aims to g...</td>\n",
              "    </tr>\n",
              "    <tr>\n",
              "      <th>3</th>\n",
              "      <td>Contract_14.pdf</td>\n",
              "      <td>2</td>\n",
              "      <td>1</td>\n",
              "      <td>900</td>\n",
              "      <td>1134</td>\n",
              "      <td>will result in termination of the\\nagreement a...</td>\n",
              "    </tr>\n",
              "    <tr>\n",
              "      <th>4</th>\n",
              "      <td>Contract_14.pdf</td>\n",
              "      <td>3</td>\n",
              "      <td>0</td>\n",
              "      <td>0</td>\n",
              "      <td>1000</td>\n",
              "      <td>CLAUSE ONE – PURPOSE: This agreement aims to g...</td>\n",
              "    </tr>\n",
              "    <tr>\n",
              "      <th>5</th>\n",
              "      <td>Contract_14.pdf</td>\n",
              "      <td>3</td>\n",
              "      <td>1</td>\n",
              "      <td>900</td>\n",
              "      <td>1320</td>\n",
              "      <td>will result in termination of the\\nagreement a...</td>\n",
              "    </tr>\n",
              "    <tr>\n",
              "      <th>6</th>\n",
              "      <td>Contract_17.pdf</td>\n",
              "      <td>1</td>\n",
              "      <td>0</td>\n",
              "      <td>0</td>\n",
              "      <td>1000</td>\n",
              "      <td>STUDENT LOAN AGREEMENT\\n \\nBORROWER: Richard T...</td>\n",
              "    </tr>\n",
              "    <tr>\n",
              "      <th>7</th>\n",
              "      <td>Contract_17.pdf</td>\n",
              "      <td>1</td>\n",
              "      <td>1</td>\n",
              "      <td>900</td>\n",
              "      <td>1417</td>\n",
              "      <td>financed asset, with minimum coverage as requi...</td>\n",
              "    </tr>\n",
              "    <tr>\n",
              "      <th>8</th>\n",
              "      <td>Contract_17.pdf</td>\n",
              "      <td>2</td>\n",
              "      <td>0</td>\n",
              "      <td>0</td>\n",
              "      <td>1000</td>\n",
              "      <td>CLAUSE ONE – PURPOSE: This agreement aims to g...</td>\n",
              "    </tr>\n",
              "    <tr>\n",
              "      <th>9</th>\n",
              "      <td>Contract_17.pdf</td>\n",
              "      <td>2</td>\n",
              "      <td>1</td>\n",
              "      <td>900</td>\n",
              "      <td>1134</td>\n",
              "      <td>will result in termination of the\\nagreement a...</td>\n",
              "    </tr>\n",
              "  </tbody>\n",
              "</table>\n",
              "</div>\n",
              "    <div class=\"colab-df-buttons\">\n",
              "\n",
              "  <div class=\"colab-df-container\">\n",
              "    <button class=\"colab-df-convert\" onclick=\"convertToInteractive('df-92eac7c6-e4d3-41eb-b778-d688afa8c5b8')\"\n",
              "            title=\"Convert this dataframe to an interactive table.\"\n",
              "            style=\"display:none;\">\n",
              "\n",
              "  <svg xmlns=\"http://www.w3.org/2000/svg\" height=\"24px\" viewBox=\"0 -960 960 960\">\n",
              "    <path d=\"M120-120v-720h720v720H120Zm60-500h600v-160H180v160Zm220 220h160v-160H400v160Zm0 220h160v-160H400v160ZM180-400h160v-160H180v160Zm440 0h160v-160H620v160ZM180-180h160v-160H180v160Zm440 0h160v-160H620v160Z\"/>\n",
              "  </svg>\n",
              "    </button>\n",
              "\n",
              "  <style>\n",
              "    .colab-df-container {\n",
              "      display:flex;\n",
              "      gap: 12px;\n",
              "    }\n",
              "\n",
              "    .colab-df-convert {\n",
              "      background-color: #E8F0FE;\n",
              "      border: none;\n",
              "      border-radius: 50%;\n",
              "      cursor: pointer;\n",
              "      display: none;\n",
              "      fill: #1967D2;\n",
              "      height: 32px;\n",
              "      padding: 0 0 0 0;\n",
              "      width: 32px;\n",
              "    }\n",
              "\n",
              "    .colab-df-convert:hover {\n",
              "      background-color: #E2EBFA;\n",
              "      box-shadow: 0px 1px 2px rgba(60, 64, 67, 0.3), 0px 1px 3px 1px rgba(60, 64, 67, 0.15);\n",
              "      fill: #174EA6;\n",
              "    }\n",
              "\n",
              "    .colab-df-buttons div {\n",
              "      margin-bottom: 4px;\n",
              "    }\n",
              "\n",
              "    [theme=dark] .colab-df-convert {\n",
              "      background-color: #3B4455;\n",
              "      fill: #D2E3FC;\n",
              "    }\n",
              "\n",
              "    [theme=dark] .colab-df-convert:hover {\n",
              "      background-color: #434B5C;\n",
              "      box-shadow: 0px 1px 3px 1px rgba(0, 0, 0, 0.15);\n",
              "      filter: drop-shadow(0px 1px 2px rgba(0, 0, 0, 0.3));\n",
              "      fill: #FFFFFF;\n",
              "    }\n",
              "  </style>\n",
              "\n",
              "    <script>\n",
              "      const buttonEl =\n",
              "        document.querySelector('#df-92eac7c6-e4d3-41eb-b778-d688afa8c5b8 button.colab-df-convert');\n",
              "      buttonEl.style.display =\n",
              "        google.colab.kernel.accessAllowed ? 'block' : 'none';\n",
              "\n",
              "      async function convertToInteractive(key) {\n",
              "        const element = document.querySelector('#df-92eac7c6-e4d3-41eb-b778-d688afa8c5b8');\n",
              "        const dataTable =\n",
              "          await google.colab.kernel.invokeFunction('convertToInteractive',\n",
              "                                                    [key], {});\n",
              "        if (!dataTable) return;\n",
              "\n",
              "        const docLinkHtml = 'Like what you see? Visit the ' +\n",
              "          '<a target=\"_blank\" href=https://colab.research.google.com/notebooks/data_table.ipynb>data table notebook</a>'\n",
              "          + ' to learn more about interactive tables.';\n",
              "        element.innerHTML = '';\n",
              "        dataTable['output_type'] = 'display_data';\n",
              "        await google.colab.output.renderOutput(dataTable, element);\n",
              "        const docLink = document.createElement('div');\n",
              "        docLink.innerHTML = docLinkHtml;\n",
              "        element.appendChild(docLink);\n",
              "      }\n",
              "    </script>\n",
              "  </div>\n",
              "\n",
              "\n",
              "    <div id=\"df-7d8d886d-1fdf-4b28-ab4a-96b56d79c5a9\">\n",
              "      <button class=\"colab-df-quickchart\" onclick=\"quickchart('df-7d8d886d-1fdf-4b28-ab4a-96b56d79c5a9')\"\n",
              "                title=\"Suggest charts\"\n",
              "                style=\"display:none;\">\n",
              "\n",
              "<svg xmlns=\"http://www.w3.org/2000/svg\" height=\"24px\"viewBox=\"0 0 24 24\"\n",
              "     width=\"24px\">\n",
              "    <g>\n",
              "        <path d=\"M19 3H5c-1.1 0-2 .9-2 2v14c0 1.1.9 2 2 2h14c1.1 0 2-.9 2-2V5c0-1.1-.9-2-2-2zM9 17H7v-7h2v7zm4 0h-2V7h2v10zm4 0h-2v-4h2v4z\"/>\n",
              "    </g>\n",
              "</svg>\n",
              "      </button>\n",
              "\n",
              "<style>\n",
              "  .colab-df-quickchart {\n",
              "      --bg-color: #E8F0FE;\n",
              "      --fill-color: #1967D2;\n",
              "      --hover-bg-color: #E2EBFA;\n",
              "      --hover-fill-color: #174EA6;\n",
              "      --disabled-fill-color: #AAA;\n",
              "      --disabled-bg-color: #DDD;\n",
              "  }\n",
              "\n",
              "  [theme=dark] .colab-df-quickchart {\n",
              "      --bg-color: #3B4455;\n",
              "      --fill-color: #D2E3FC;\n",
              "      --hover-bg-color: #434B5C;\n",
              "      --hover-fill-color: #FFFFFF;\n",
              "      --disabled-bg-color: #3B4455;\n",
              "      --disabled-fill-color: #666;\n",
              "  }\n",
              "\n",
              "  .colab-df-quickchart {\n",
              "    background-color: var(--bg-color);\n",
              "    border: none;\n",
              "    border-radius: 50%;\n",
              "    cursor: pointer;\n",
              "    display: none;\n",
              "    fill: var(--fill-color);\n",
              "    height: 32px;\n",
              "    padding: 0;\n",
              "    width: 32px;\n",
              "  }\n",
              "\n",
              "  .colab-df-quickchart:hover {\n",
              "    background-color: var(--hover-bg-color);\n",
              "    box-shadow: 0 1px 2px rgba(60, 64, 67, 0.3), 0 1px 3px 1px rgba(60, 64, 67, 0.15);\n",
              "    fill: var(--button-hover-fill-color);\n",
              "  }\n",
              "\n",
              "  .colab-df-quickchart-complete:disabled,\n",
              "  .colab-df-quickchart-complete:disabled:hover {\n",
              "    background-color: var(--disabled-bg-color);\n",
              "    fill: var(--disabled-fill-color);\n",
              "    box-shadow: none;\n",
              "  }\n",
              "\n",
              "  .colab-df-spinner {\n",
              "    border: 2px solid var(--fill-color);\n",
              "    border-color: transparent;\n",
              "    border-bottom-color: var(--fill-color);\n",
              "    animation:\n",
              "      spin 1s steps(1) infinite;\n",
              "  }\n",
              "\n",
              "  @keyframes spin {\n",
              "    0% {\n",
              "      border-color: transparent;\n",
              "      border-bottom-color: var(--fill-color);\n",
              "      border-left-color: var(--fill-color);\n",
              "    }\n",
              "    20% {\n",
              "      border-color: transparent;\n",
              "      border-left-color: var(--fill-color);\n",
              "      border-top-color: var(--fill-color);\n",
              "    }\n",
              "    30% {\n",
              "      border-color: transparent;\n",
              "      border-left-color: var(--fill-color);\n",
              "      border-top-color: var(--fill-color);\n",
              "      border-right-color: var(--fill-color);\n",
              "    }\n",
              "    40% {\n",
              "      border-color: transparent;\n",
              "      border-right-color: var(--fill-color);\n",
              "      border-top-color: var(--fill-color);\n",
              "    }\n",
              "    60% {\n",
              "      border-color: transparent;\n",
              "      border-right-color: var(--fill-color);\n",
              "    }\n",
              "    80% {\n",
              "      border-color: transparent;\n",
              "      border-right-color: var(--fill-color);\n",
              "      border-bottom-color: var(--fill-color);\n",
              "    }\n",
              "    90% {\n",
              "      border-color: transparent;\n",
              "      border-bottom-color: var(--fill-color);\n",
              "    }\n",
              "  }\n",
              "</style>\n",
              "\n",
              "      <script>\n",
              "        async function quickchart(key) {\n",
              "          const quickchartButtonEl =\n",
              "            document.querySelector('#' + key + ' button');\n",
              "          quickchartButtonEl.disabled = true;  // To prevent multiple clicks.\n",
              "          quickchartButtonEl.classList.add('colab-df-spinner');\n",
              "          try {\n",
              "            const charts = await google.colab.kernel.invokeFunction(\n",
              "                'suggestCharts', [key], {});\n",
              "          } catch (error) {\n",
              "            console.error('Error during call to suggestCharts:', error);\n",
              "          }\n",
              "          quickchartButtonEl.classList.remove('colab-df-spinner');\n",
              "          quickchartButtonEl.classList.add('colab-df-quickchart-complete');\n",
              "        }\n",
              "        (() => {\n",
              "          let quickchartButtonEl =\n",
              "            document.querySelector('#df-7d8d886d-1fdf-4b28-ab4a-96b56d79c5a9 button');\n",
              "          quickchartButtonEl.style.display =\n",
              "            google.colab.kernel.accessAllowed ? 'block' : 'none';\n",
              "        })();\n",
              "      </script>\n",
              "    </div>\n",
              "\n",
              "    </div>\n",
              "  </div>\n"
            ],
            "application/vnd.google.colaboratory.intrinsic+json": {
              "type": "dataframe",
              "variable_name": "chunks_df",
              "summary": "{\n  \"name\": \"chunks_df\",\n  \"rows\": 180,\n  \"fields\": [\n    {\n      \"column\": \"filename\",\n      \"properties\": {\n        \"dtype\": \"category\",\n        \"num_unique_values\": 30,\n        \"samples\": [\n          \"Contract_10.pdf\",\n          \"Contract_6.pdf\",\n          \"Contract_23.pdf\"\n        ],\n        \"semantic_type\": \"\",\n        \"description\": \"\"\n      }\n    },\n    {\n      \"column\": \"page_number\",\n      \"properties\": {\n        \"dtype\": \"number\",\n        \"std\": 0,\n        \"min\": 1,\n        \"max\": 3,\n        \"num_unique_values\": 3,\n        \"samples\": [\n          1,\n          2,\n          3\n        ],\n        \"semantic_type\": \"\",\n        \"description\": \"\"\n      }\n    },\n    {\n      \"column\": \"chunk_id\",\n      \"properties\": {\n        \"dtype\": \"number\",\n        \"std\": 0,\n        \"min\": 0,\n        \"max\": 1,\n        \"num_unique_values\": 2,\n        \"samples\": [\n          1,\n          0\n        ],\n        \"semantic_type\": \"\",\n        \"description\": \"\"\n      }\n    },\n    {\n      \"column\": \"start_idx\",\n      \"properties\": {\n        \"dtype\": \"number\",\n        \"std\": 451,\n        \"min\": 0,\n        \"max\": 900,\n        \"num_unique_values\": 2,\n        \"samples\": [\n          900,\n          0\n        ],\n        \"semantic_type\": \"\",\n        \"description\": \"\"\n      }\n    },\n    {\n      \"column\": \"end_idx\",\n      \"properties\": {\n        \"dtype\": \"number\",\n        \"std\": 167,\n        \"min\": 1000,\n        \"max\": 1430,\n        \"num_unique_values\": 32,\n        \"samples\": [\n          1318,\n          1409\n        ],\n        \"semantic_type\": \"\",\n        \"description\": \"\"\n      }\n    },\n    {\n      \"column\": \"text\",\n      \"properties\": {\n        \"dtype\": \"category\",\n        \"num_unique_values\": 82,\n        \"samples\": [\n          \"will result in termination of the\\nagreement and enforcement of the guarantees, regardless of notification.\\nCLAUSE EIGHT \\u2013 JURISDICTION: The parties elect the Courts of New York, NY, to settle any\\ndisputes arising from this agreement.\\nNew York, December 31, 2024\\n_________________________________________\\nJohn Smith \\u2013 BORROWER\\n_________________________________________\\nRepresentative \\u2013 FINANCIAL BANK OF AMERICA (LENDER)\\n\",\n          \"REAL ESTATE FINANCING AGREEMENT\\n \\nBORROWER: Carlos Brown, residing at 456 Central Avenue - Los Angeles, CA, holder of SSN\\nn\\u00ba 867542169.\\nLENDER: FINANCIAL BANK OF AMERICA Inc., registered under EIN n\\u00ba 00-0000000,\\nheadquartered at 1000 Main Avenue, New York, NY.\\nFINANCED AMOUNT: $1,203,432.00.\\nCLAUSE ONE \\u2013 PURPOSE: This agreement aims to grant financing to the BORROWER for the\\nacquisition of the asset described in the preamble.\\nCLAUSE TWO \\u2013 TERM: The financing period shall be up to 60 months, unless otherwise agreed\\nupon by the parties.\\nCLAUSE THREE \\u2013 PAYMENT: The BORROWER shall pay monthly installments, increased by\\ninterest of 1.2% per month and corrected annually by the Consumer Price Index (CPI).\\nCLAUSE FOUR \\u2013 GUARANTEES: The financed asset will remain under fiduciary lien in favor of\\nthe BANK until full settlement.\\nCLAUSE FIVE \\u2013 INSURANCE: The BORROWER must contract mandatory insurance for the\\nfinanced asset, with minimum coverage as required by current legislation.\\nCLAUSE SIX \\u2013 DEF\"\n        ],\n        \"semantic_type\": \"\",\n        \"description\": \"\"\n      }\n    }\n  ]\n}"
            }
          },
          "metadata": {},
          "execution_count": 8
        }
      ]
    },
    {
      "cell_type": "markdown",
      "source": [
        "# Modelling"
      ],
      "metadata": {
        "id": "UMHRs-V6QnMU"
      }
    },
    {
      "cell_type": "code",
      "source": [
        "import os\n",
        "import google.generativeai as genai\n",
        "from google.colab import userdata\n",
        "\n",
        "os.environ[\"GOOGLE_API_KEY\"] = userdata.get(\"api_token_gemini_LLM\")\n",
        "genai.configure(api_key=os.environ[\"GOOGLE_API_KEY\"])\n"
      ],
      "metadata": {
        "id": "VvTz5jbx3HIC"
      },
      "execution_count": null,
      "outputs": []
    },
    {
      "cell_type": "code",
      "source": [
        "model_list = genai.list_models()\n",
        "for m in model_list:\n",
        "    print(m.name)"
      ],
      "metadata": {
        "colab": {
          "base_uri": "https://localhost:8080/",
          "height": 1000
        },
        "id": "fYVBildoEdaC",
        "outputId": "90b38037-16c0-4e22-ba84-3c6ea98111ee"
      },
      "execution_count": null,
      "outputs": [
        {
          "output_type": "stream",
          "name": "stdout",
          "text": [
            "models/embedding-gecko-001\n",
            "models/gemini-2.5-pro-preview-03-25\n",
            "models/gemini-2.5-flash-preview-05-20\n",
            "models/gemini-2.5-flash\n",
            "models/gemini-2.5-flash-lite-preview-06-17\n",
            "models/gemini-2.5-pro-preview-05-06\n",
            "models/gemini-2.5-pro-preview-06-05\n",
            "models/gemini-2.5-pro\n",
            "models/gemini-2.0-flash-exp\n",
            "models/gemini-2.0-flash\n",
            "models/gemini-2.0-flash-001\n",
            "models/gemini-2.0-flash-exp-image-generation\n",
            "models/gemini-2.0-flash-lite-001\n",
            "models/gemini-2.0-flash-lite\n",
            "models/gemini-2.0-flash-preview-image-generation\n",
            "models/gemini-2.0-flash-lite-preview-02-05\n",
            "models/gemini-2.0-flash-lite-preview\n",
            "models/gemini-2.0-pro-exp\n",
            "models/gemini-2.0-pro-exp-02-05\n",
            "models/gemini-exp-1206\n",
            "models/gemini-2.0-flash-thinking-exp-01-21\n",
            "models/gemini-2.0-flash-thinking-exp\n",
            "models/gemini-2.0-flash-thinking-exp-1219\n",
            "models/gemini-2.5-flash-preview-tts\n",
            "models/gemini-2.5-pro-preview-tts\n",
            "models/learnlm-2.0-flash-experimental\n",
            "models/gemma-3-1b-it\n",
            "models/gemma-3-4b-it\n",
            "models/gemma-3-12b-it\n",
            "models/gemma-3-27b-it\n",
            "models/gemma-3n-e4b-it\n",
            "models/gemma-3n-e2b-it\n",
            "models/gemini-flash-latest\n",
            "models/gemini-flash-lite-latest\n",
            "models/gemini-pro-latest\n",
            "models/gemini-2.5-flash-lite\n",
            "models/gemini-2.5-flash-image-preview\n",
            "models/gemini-2.5-flash-image\n",
            "models/gemini-2.5-flash-preview-09-2025\n",
            "models/gemini-2.5-flash-lite-preview-09-2025\n",
            "models/gemini-robotics-er-1.5-preview\n",
            "models/gemini-2.5-computer-use-preview-10-2025\n",
            "models/embedding-001\n",
            "models/text-embedding-004\n",
            "models/gemini-embedding-exp-03-07\n",
            "models/gemini-embedding-exp\n",
            "models/gemini-embedding-001\n",
            "models/aqa\n",
            "models/imagen-3.0-generate-002\n",
            "models/imagen-4.0-generate-preview-06-06\n",
            "models/imagen-4.0-ultra-generate-preview-06-06\n",
            "models/imagen-4.0-generate-001\n",
            "models/imagen-4.0-ultra-generate-001\n",
            "models/imagen-4.0-fast-generate-001\n",
            "models/veo-2.0-generate-001\n",
            "models/veo-3.0-generate-preview\n",
            "models/veo-3.0-fast-generate-preview\n",
            "models/veo-3.0-generate-001\n",
            "models/veo-3.0-fast-generate-001\n",
            "models/veo-3.1-generate-preview\n",
            "models/veo-3.1-fast-generate-preview\n",
            "models/gemini-2.5-flash-preview-native-audio-dialog\n",
            "models/gemini-2.5-flash-exp-native-audio-thinking-dialog\n",
            "models/gemini-2.0-flash-live-001\n",
            "models/gemini-live-2.5-flash-preview\n",
            "models/gemini-2.5-flash-live-preview\n",
            "models/gemini-2.5-flash-native-audio-latest\n",
            "models/gemini-2.5-flash-native-audio-preview-09-2025\n"
          ]
        }
      ]
    },
    {
      "cell_type": "code",
      "source": [
        "embedding_model = \"models/text-embedding-004\"\n",
        "llm_model = \"models/gemini-2.0-flash\""
      ],
      "metadata": {
        "id": "bP48qBYxGkTH"
      },
      "execution_count": null,
      "outputs": []
    },
    {
      "cell_type": "code",
      "source": [
        "import google.generativeai as genai\n",
        "import numpy as np\n",
        "import faiss\n",
        "import pickle\n",
        "\n",
        "# Generate embedding untuk tiap chunk\n",
        "embeddings = []\n",
        "for text in tqdm(chunks_df[\"text\"].tolist()):\n",
        "    result = genai.embed_content(model=embedding_model, content=text)\n",
        "    embeddings.append(result[\"embedding\"])\n",
        "\n",
        "embeddings = np.array(embeddings).astype(\"float32\")\n",
        "\n",
        "# Buat FAISS index\n",
        "dimension = embeddings.shape[1]\n",
        "index = faiss.IndexFlatL2(dimension)\n",
        "index.add(embeddings)\n",
        "\n",
        "# Simpan hasil (artifacts)\n",
        "artifact_folder = \"/content/drive/MyDrive/Project Portofolio/LLM-RAG-Gemini-Hacktiv8/LLM_RAG_artifacts/\"\n",
        "os.makedirs(artifact_folder, exist_ok=True)\n",
        "\n",
        "faiss.write_index(index, os.path.join(artifact_folder, \"faiss.index\"))\n",
        "np.save(os.path.join(artifact_folder, \"embeddings.npy\"), embeddings)\n",
        "chunks_df.to_parquet(os.path.join(artifact_folder, \"chunks.parquet\"))\n",
        "print(\"✅ Embedding & FAISS index saved.\")\n"
      ],
      "metadata": {
        "colab": {
          "base_uri": "https://localhost:8080/",
          "height": 52
        },
        "id": "7Tfa0uFTfQ2E",
        "outputId": "1f3aa14a-e002-431a-d928-19c7f9f75d50"
      },
      "execution_count": null,
      "outputs": [
        {
          "output_type": "stream",
          "name": "stderr",
          "text": [
            "100%|██████████| 180/180 [02:14<00:00,  1.33it/s]\n"
          ]
        },
        {
          "output_type": "stream",
          "name": "stdout",
          "text": [
            "✅ Embedding & FAISS index saved.\n"
          ]
        }
      ]
    },
    {
      "cell_type": "code",
      "source": [
        "import google.generativeai as genai\n",
        "from langchain_google_genai import ChatGoogleGenerativeAI, GoogleGenerativeAIEmbeddings\n",
        "\n",
        "embedding_fn = GoogleGenerativeAIEmbeddings(model=embedding_model)\n",
        "llm = ChatGoogleGenerativeAI(\n",
        "    model=\"models/gemini-2.5-flash\",     # atau \"gemini-2.5-pro\" jika ingin akurasi tinggi\n",
        "    temperature=0.8,              # lebih tinggi = lebih ekspresif\n",
        "    top_p=0.9,                    # menjaga variasi respons\n",
        "    max_output_tokens=800,        # supaya jawabannya bisa agak panjang\n",
        "    convert_system_message_to_human=True,  # biar gaya lebih natural\n",
        "    verbose=True,                 # tampilkan log interaksi LangChain\n",
        ")"
      ],
      "metadata": {
        "id": "C_-OZNGjkAf-"
      },
      "execution_count": null,
      "outputs": []
    },
    {
      "cell_type": "code",
      "source": [
        "# Load Index dan Metadata\n",
        "artifact_folder = \"/content/drive/MyDrive/Project Portofolio/LLM-RAG-Gemini-Hacktiv8/LLM_RAG_artifacts/\"\n",
        "index = faiss.read_index(os.path.join(artifact_folder, \"faiss.index\"))\n",
        "chunks_df = pd.read_parquet(os.path.join(artifact_folder, \"chunks.parquet\"))\n",
        "embeddings = np.load(os.path.join(artifact_folder, \"embeddings.npy\"))"
      ],
      "metadata": {
        "id": "XtUWPkZrEzYG"
      },
      "execution_count": null,
      "outputs": []
    },
    {
      "cell_type": "code",
      "source": [
        "import os\n",
        "import numpy as np\n",
        "import pandas as pd\n",
        "import faiss\n",
        "from tqdm import tqdm\n",
        "from langchain_google_genai import ChatGoogleGenerativeAI, GoogleGenerativeAIEmbeddings\n",
        "\n",
        "# Retrieval (mengganti fungsi genai.embed_content → LangChain)\n",
        "def retrieve_from_doc(query, file_name, top_k=5):\n",
        "    doc_mask = chunks_df[\"filename\"].str.lower() == file_name.lower()\n",
        "    doc_chunks = chunks_df[doc_mask].reset_index(drop=True)\n",
        "    doc_embeddings = embeddings[doc_mask]\n",
        "\n",
        "    if len(doc_chunks) == 0:\n",
        "        return []\n",
        "\n",
        "    index_doc = faiss.IndexFlatL2(doc_embeddings.shape[1])\n",
        "    index_doc.add(doc_embeddings.astype(\"float32\"))\n",
        "\n",
        "    query_emb = embedding_fn.embed_query(query)\n",
        "    query_emb = np.array([query_emb]).astype(\"float32\")\n",
        "\n",
        "    distances, indices = index_doc.search(query_emb, top_k)\n",
        "\n",
        "    results = []\n",
        "    for idx in indices[0]:\n",
        "        if 0 <= idx < len(doc_chunks):\n",
        "            row = doc_chunks.iloc[idx]\n",
        "            results.append({\n",
        "                \"text\": row[\"text\"],\n",
        "                \"page_number\": row[\"page_number\"],\n",
        "                \"chunk_id\": row[\"chunk_id\"],\n",
        "                \"start_idx\": row[\"start_idx\"],\n",
        "                \"end_idx\": row[\"end_idx\"]\n",
        "            })\n",
        "    return results\n"
      ],
      "metadata": {
        "id": "oXOycXapA3qx"
      },
      "execution_count": null,
      "outputs": []
    },
    {
      "cell_type": "code",
      "source": [
        "def ask_gemini_rag(question, context):\n",
        "    # ✨ Prompt kontekstual yang informatif dan human-like\n",
        "    prompt = f\"\"\"\n",
        "Anda adalah asisten hukum profesional namun komunikatif.\n",
        "Analisis isi kontrak pembiayaan berikut untuk menjawab pertanyaan dengan jelas, padat, dan tidak terlalu kaku.\n",
        "\n",
        "KONTEKS DOKUMEN:\n",
        "{context}\n",
        "\n",
        "PERTANYAAN:\n",
        "{question}\n",
        "\n",
        "Petunjuk:\n",
        "- Gunakan informasi yang ada pada konteks secara langsung.\n",
        "- Jangan membuat asumsi jika data tidak disebutkan.\n",
        "- Jelaskan jawaban Anda dengan bahasa alami, profesional, dan mudah dipahami.\n",
        "- Jika tidak ada informasi relevan, tulis dengan sopan bahwa data tersebut tidak tersedia dalam konteks.\n",
        "\"\"\"\n",
        "\n",
        "    # 🔷 Panggil LLM LangChain\n",
        "    response = llm.invoke(prompt)\n",
        "\n",
        "    # 🧠 Beberapa versi LangChain mengembalikan AIMessage, bukan .content\n",
        "    if hasattr(response, \"content\"):\n",
        "        return response.content.strip()\n",
        "    elif hasattr(response, \"text\"):\n",
        "        return response.text.strip()\n",
        "    else:\n",
        "        return str(response).strip()\n"
      ],
      "metadata": {
        "id": "zu-DhkLiA8SS"
      },
      "execution_count": null,
      "outputs": []
    },
    {
      "cell_type": "markdown",
      "source": [
        "## Evaluation"
      ],
      "metadata": {
        "id": "rEMXx9ibRohr"
      }
    },
    {
      "cell_type": "code",
      "source": [
        "import re\n",
        "\n",
        "def clean_text(text):\n",
        "    text = re.sub(r\"\\*\\*(.*?)\\*\\*\", r\"\\1\", text)  # hapus bold markdown\n",
        "    text = re.sub(r\"\\*\", \"\", text)                 # hapus semua bintang tunggal\n",
        "    text = re.sub(r\"_+\", \"\", text)                 # hapus garis bawah berlebih\n",
        "    text = re.sub(r\"\\s{2,}\", \" \", text)            # ganti spasi ganda jadi tunggal\n",
        "    text = re.sub(r\"\\n{2,}\", \"\\n\", text)           # rapikan baris kosong berlebih\n",
        "    return text.strip()\n",
        "\n",
        "# 🧠 Loop pertanyaan dengan hasil bersih\n",
        "target_doc = \"Contract_4.pdf\"\n",
        "\n",
        "questions = {\n",
        "    \"Pihak dan Identitas\": [\n",
        "        \"Siapa nama pihak peminjam dan pemberi pinjaman dalam kontrak ini?\",\n",
        "        \"Di mana alamat masing-masing pihak disebutkan?\",\n",
        "        \"Apa jumlah total pembiayaan yang disetujui dalam perjanjian ini?\",\n",
        "    ],\n",
        "    \"Pembayaran dan Bunga\": [\n",
        "        \"Bagaimana sistem pembayaran cicilan dijelaskan dalam perjanjian ini?\",\n",
        "        \"Berapa tingkat bunga yang dikenakan setiap bulan?\",\n",
        "        \"Apakah ada penyesuaian tahunan terhadap cicilan?\",\n",
        "    ],\n",
        "    \"Denda dan Kewajiban\": [\n",
        "        \"Apa konsekuensi atau denda jika peminjam terlambat membayar cicilan?\",\n",
        "        \"Bagaimana cara pemberi pinjaman dapat mengeksekusi jaminan jika terjadi gagal bayar?\",\n",
        "    ],\n",
        "    \"Asuransi dan Jaminan\": [\n",
        "        \"Siapa yang wajib menanggung asuransi untuk aset yang dibiayai?\",\n",
        "        \"Apa jenis jaminan yang diberikan oleh peminjam dalam kontrak ini?\",\n",
        "    ],\n",
        "    \"Hukum dan Yurisdiksi\": [\n",
        "        \"Pengadilan mana yang berwenang menyelesaikan sengketa dalam perjanjian ini?\",\n",
        "        \"Apakah kontrak ini dapat diakhiri sepihak oleh salah satu pihak?\",\n",
        "    ]\n",
        "}\n",
        "\n",
        "for section, qs in questions.items():\n",
        "    print(f\"\\n📘 {section}\")\n",
        "    print(\"=\" * 80)\n",
        "    for q in qs:\n",
        "        print(f\"\\n💬 Pertanyaan: {q}\")\n",
        "        docs = retrieve_from_doc(q, target_doc)\n",
        "\n",
        "        if not docs:\n",
        "            print(\"⚠️ Tidak ada konteks ditemukan untuk dokumen ini.\\n\")\n",
        "            continue\n",
        "\n",
        "        # Bersihkan teks sebelum dikirim ke Gemini\n",
        "        context_text = \"\\n\\n\".join(clean_text(d) for d in docs)\n",
        "\n",
        "        # Panggil fungsi RAG\n",
        "        answer = ask_gemini_rag(q, context_text)\n",
        "\n",
        "        # Bersihkan output model juga biar rapi\n",
        "        answer_clean = clean_text(answer)\n",
        "        print(\"🧠 Jawaban Gemini:\\n\", answer_clean)\n",
        "        print(\"-\" * 100)"
      ],
      "metadata": {
        "colab": {
          "base_uri": "https://localhost:8080/"
        },
        "id": "cHH2JAaNBWep",
        "outputId": "5a6fd475-abf3-4ad2-aa1e-1b39642ffc51"
      },
      "execution_count": null,
      "outputs": [
        {
          "output_type": "stream",
          "name": "stdout",
          "text": [
            "\n",
            "📘 Pihak dan Identitas\n",
            "================================================================================\n",
            "\n",
            "💬 Pertanyaan: Siapa nama pihak peminjam dan pemberi pinjaman dalam kontrak ini?\n",
            "🧠 Jawaban Gemini:\n",
            " Oke, berdasarkan informasi yang terdapat dalam kontrak pembiayaan yang Anda berikan, berikut adalah nama pihak peminjam dan pemberi pinjaman: Peminjam: Patricia Hall Pemberi Pinjaman: FINANCIAL BANK OF AMERICA Inc.\n",
            "----------------------------------------------------------------------------------------------------\n",
            "\n",
            "💬 Pertanyaan: Di mana alamat masing-masing pihak disebutkan?\n",
            "🧠 Jawaban Gemini:\n",
            " Baik, mari kita lihat alamat masing-masing pihak dalam perjanjian pembiayaan ini: Peminjam (BORROWER): Patricia Hall, beralamat di 456 Central Avenue - Los Angeles, CA. Pemberi Pinjaman (LENDER): FINANCIAL BANK OF AMERICA Inc., berkantor pusat di 1000 Main Avenue, New York, NY.\n",
            "----------------------------------------------------------------------------------------------------\n",
            "\n",
            "💬 Pertanyaan: Apa jumlah total pembiayaan yang disetujui dalam perjanjian ini?\n",
            "🧠 Jawaban Gemini:\n",
            " Jumlah total pembiayaan yang disetujui dalam perjanjian ini adalah $36,160.00. Informasi ini secara eksplisit disebutkan dalam bagian \"FINANCED AMOUNT\" pada awal dokumen.\n",
            "----------------------------------------------------------------------------------------------------\n",
            "\n",
            "📘 Pembayaran dan Bunga\n",
            "================================================================================\n",
            "\n",
            "💬 Pertanyaan: Bagaimana sistem pembayaran cicilan dijelaskan dalam perjanjian ini?\n",
            "🧠 Jawaban Gemini:\n",
            " Dalam perjanjian ini, sistem pembayaran cicilan dijelaskan sebagai berikut: Cicilan Bulanan: Peminjam (BORROWER) wajib membayar cicilan setiap bulan. Bunga: Cicilan tersebut akan ditambah dengan bunga sebesar 1.2% per bulan. Koreksi CPI: Selain bunga, cicilan juga akan dikoreksi setiap tahun berdasarkan Indeks Harga Konsumen (CPI).\n",
            "----------------------------------------------------------------------------------------------------\n",
            "\n",
            "💬 Pertanyaan: Berapa tingkat bunga yang dikenakan setiap bulan?\n",
            "🧠 Jawaban Gemini:\n",
            " Berdasarkan Klausul Tiga (\"PAYMENT\"), tingkat bunga yang dikenakan setiap bulan adalah 1.2%. Selain itu, pembayaran bulanan juga akan disesuaikan setiap tahunnya dengan menggunakan Indeks Harga Konsumen (CPI).\n",
            "----------------------------------------------------------------------------------------------------\n",
            "\n",
            "💬 Pertanyaan: Apakah ada penyesuaian tahunan terhadap cicilan?\n",
            "🧠 Jawaban Gemini:\n",
            " Ya, ada penyesuaian tahunan terhadap cicilan. Klausul Tiga (\"PAYMENT\") menyatakan bahwa cicilan bulanan akan \"dikoreksi setiap tahun oleh Indeks Harga Konsumen (CPI)\". Jadi, cicilan akan disesuaikan setiap tahun berdasarkan perubahan CPI.\n",
            "----------------------------------------------------------------------------------------------------\n",
            "\n",
            "📘 Denda dan Kewajiban\n",
            "================================================================================\n",
            "\n",
            "💬 Pertanyaan: Apa konsekuensi atau denda jika peminjam terlambat membayar cicilan?\n",
            "🧠 Jawaban Gemini:\n",
            " Jika peminjam (Patricia Hall) terlambat membayar cicilan, berdasarkan Klausul Enam (DEFAULT) dalam perjanjian pembiayaan ini, konsekuensinya adalah sebagai berikut: Denda: 2% dari jumlah cicilan yang terlambat. Bunga keterlambatan: 1% per bulan atas jumlah yang belum dibayar. Kemungkinan Eksekusi Jaminan: Bank berhak untuk melakukan eksekusi atas jaminan, yaitu aset yang dibiayai (sepeda motor), untuk melunasi hutang.\n",
            "----------------------------------------------------------------------------------------------------\n",
            "\n",
            "💬 Pertanyaan: Bagaimana cara pemberi pinjaman dapat mengeksekusi jaminan jika terjadi gagal bayar?\n",
            "🧠 Jawaban Gemini:\n",
            " Berdasarkan perjanjian pembiayaan yang diberikan, jika terjadi gagal bayar (default), pemberi pinjaman (Financial Bank of America) dapat mengeksekusi jaminan. Klausa 6 menjelaskan bahwa keterlambatan pembayaran akan mengakibatkan denda 2% pada cicilan, bunga keterlambatan 1% per bulan, dan kemungkinan eksekusi jaminan. Lebih lanjut, Klausa 7 menegaskan bahwa pelanggaran kewajiban akan mengakibatkan pengakhiran perjanjian dan penegakan jaminan, terlepas dari pemberitahuan. Mengenai bagaimana pemberi pinjaman mengeksekusi jaminan, detail spesifik mengenai prosesnya tidak dijelaskan dalam perjanjian ini. Namun, Klausa 4 menyebutkan bahwa aset yang dibiayai akan tetap menjadi fiduciary lien (hak gadai fidusia) yang mendukung Bank sampai pelunasan penuh. Ini berarti Bank memiliki hak atas aset tersebut sebagai jaminan.\n",
            "----------------------------------------------------------------------------------------------------\n",
            "\n",
            "📘 Asuransi dan Jaminan\n",
            "================================================================================\n",
            "\n",
            "💬 Pertanyaan: Siapa yang wajib menanggung asuransi untuk aset yang dibiayai?\n",
            "🧠 Jawaban Gemini:\n",
            " Berdasarkan Klausul Lima (INSURANCE), PEMINJAM (BORROWER) wajib mengurus asuransi untuk aset yang dibiayai. Asuransi tersebut harus memenuhi standar minimum yang diwajibkan oleh peraturan perundang-undangan yang berlaku.\n",
            "----------------------------------------------------------------------------------------------------\n",
            "\n",
            "💬 Pertanyaan: Apa jenis jaminan yang diberikan oleh peminjam dalam kontrak ini?\n",
            "🧠 Jawaban Gemini:\n",
            " Dalam kontrak ini, jaminan yang diberikan oleh peminjam adalah fiduciary lien atas aset yang dibiayai (dalam hal ini, sepeda motor). Ini berarti, kepemilikan aset secara hukum tetap berada di tangan pemberi pinjaman (BANK) sampai pinjaman dilunasi sepenuhnya.\n",
            "----------------------------------------------------------------------------------------------------\n",
            "\n",
            "📘 Hukum dan Yurisdiksi\n",
            "================================================================================\n",
            "\n",
            "💬 Pertanyaan: Pengadilan mana yang berwenang menyelesaikan sengketa dalam perjanjian ini?\n",
            "🧠 Jawaban Gemini:\n",
            " Berdasarkan Klausul Delapan (JURISDICTION) dari perjanjian ini, para pihak sepakat untuk menyelesaikan setiap sengketa yang timbul dari perjanjian ini di pengadilan yang berlokasi di New York, NY.\n",
            "----------------------------------------------------------------------------------------------------\n",
            "\n",
            "💬 Pertanyaan: Apakah kontrak ini dapat diakhiri sepihak oleh salah satu pihak?\n",
            "🧠 Jawaban Gemini:\n",
            " Berdasarkan informasi yang tersedia dalam kontrak ini, kontrak dapat diakhiri jika terjadi pelanggaran kewajiban (breach of obligations) oleh salah satu pihak. Klausa SEVEN (TERMINATION) menyatakan bahwa pelanggaran kewajiban akan mengakibatkan pengakhiran perjanjian dan penegakan jaminan, tanpa perlu pemberitahuan terlebih dahulu. Namun, kontrak ini tidak menjelaskan secara spesifik apakah pengakhiran sepihak dimungkinkan dalam kondisi lain selain pelanggaran kewajiban. Jadi, dari dokumen ini saja, kita tidak bisa menyimpulkan apakah pengakhiran sepihak dimungkinkan dalam situasi selain pelanggaran kewajiban.\n",
            "----------------------------------------------------------------------------------------------------\n"
          ]
        }
      ]
    },
    {
      "cell_type": "markdown",
      "source": [
        "# Deployment with Streamlit"
      ],
      "metadata": {
        "id": "P01n6TVBrLTM"
      }
    },
    {
      "cell_type": "code",
      "source": [
        "!pip install streamlit pyngrok"
      ],
      "metadata": {
        "colab": {
          "base_uri": "https://localhost:8080/"
        },
        "id": "PLx3OGe4rOFT",
        "outputId": "ecedc65e-6f63-4b7e-cba5-b647f3f7cb31"
      },
      "execution_count": null,
      "outputs": [
        {
          "output_type": "stream",
          "name": "stdout",
          "text": [
            "Collecting streamlit\n",
            "  Downloading streamlit-1.50.0-py3-none-any.whl.metadata (9.5 kB)\n",
            "Collecting pyngrok\n",
            "  Downloading pyngrok-7.4.0-py3-none-any.whl.metadata (8.1 kB)\n",
            "Requirement already satisfied: altair!=5.4.0,!=5.4.1,<6,>=4.0 in /usr/local/lib/python3.12/dist-packages (from streamlit) (5.5.0)\n",
            "Requirement already satisfied: blinker<2,>=1.5.0 in /usr/local/lib/python3.12/dist-packages (from streamlit) (1.9.0)\n",
            "Requirement already satisfied: cachetools<7,>=4.0 in /usr/local/lib/python3.12/dist-packages (from streamlit) (5.5.2)\n",
            "Requirement already satisfied: click<9,>=7.0 in /usr/local/lib/python3.12/dist-packages (from streamlit) (8.3.0)\n",
            "Requirement already satisfied: numpy<3,>=1.23 in /usr/local/lib/python3.12/dist-packages (from streamlit) (2.0.2)\n",
            "Requirement already satisfied: packaging<26,>=20 in /usr/local/lib/python3.12/dist-packages (from streamlit) (25.0)\n",
            "Requirement already satisfied: pandas<3,>=1.4.0 in /usr/local/lib/python3.12/dist-packages (from streamlit) (2.2.2)\n",
            "Requirement already satisfied: pillow<12,>=7.1.0 in /usr/local/lib/python3.12/dist-packages (from streamlit) (11.3.0)\n",
            "Requirement already satisfied: protobuf<7,>=3.20 in /usr/local/lib/python3.12/dist-packages (from streamlit) (5.29.5)\n",
            "Requirement already satisfied: pyarrow>=7.0 in /usr/local/lib/python3.12/dist-packages (from streamlit) (18.1.0)\n",
            "Requirement already satisfied: requests<3,>=2.27 in /usr/local/lib/python3.12/dist-packages (from streamlit) (2.32.4)\n",
            "Requirement already satisfied: tenacity<10,>=8.1.0 in /usr/local/lib/python3.12/dist-packages (from streamlit) (8.5.0)\n",
            "Requirement already satisfied: toml<2,>=0.10.1 in /usr/local/lib/python3.12/dist-packages (from streamlit) (0.10.2)\n",
            "Requirement already satisfied: typing-extensions<5,>=4.4.0 in /usr/local/lib/python3.12/dist-packages (from streamlit) (4.15.0)\n",
            "Requirement already satisfied: watchdog<7,>=2.1.5 in /usr/local/lib/python3.12/dist-packages (from streamlit) (6.0.0)\n",
            "Requirement already satisfied: gitpython!=3.1.19,<4,>=3.0.7 in /usr/local/lib/python3.12/dist-packages (from streamlit) (3.1.45)\n",
            "Collecting pydeck<1,>=0.8.0b4 (from streamlit)\n",
            "  Downloading pydeck-0.9.1-py2.py3-none-any.whl.metadata (4.1 kB)\n",
            "Requirement already satisfied: tornado!=6.5.0,<7,>=6.0.3 in /usr/local/lib/python3.12/dist-packages (from streamlit) (6.4.2)\n",
            "Requirement already satisfied: PyYAML>=5.1 in /usr/local/lib/python3.12/dist-packages (from pyngrok) (6.0.3)\n",
            "Requirement already satisfied: jinja2 in /usr/local/lib/python3.12/dist-packages (from altair!=5.4.0,!=5.4.1,<6,>=4.0->streamlit) (3.1.6)\n",
            "Requirement already satisfied: jsonschema>=3.0 in /usr/local/lib/python3.12/dist-packages (from altair!=5.4.0,!=5.4.1,<6,>=4.0->streamlit) (4.25.1)\n",
            "Requirement already satisfied: narwhals>=1.14.2 in /usr/local/lib/python3.12/dist-packages (from altair!=5.4.0,!=5.4.1,<6,>=4.0->streamlit) (2.7.0)\n",
            "Requirement already satisfied: gitdb<5,>=4.0.1 in /usr/local/lib/python3.12/dist-packages (from gitpython!=3.1.19,<4,>=3.0.7->streamlit) (4.0.12)\n",
            "Requirement already satisfied: python-dateutil>=2.8.2 in /usr/local/lib/python3.12/dist-packages (from pandas<3,>=1.4.0->streamlit) (2.9.0.post0)\n",
            "Requirement already satisfied: pytz>=2020.1 in /usr/local/lib/python3.12/dist-packages (from pandas<3,>=1.4.0->streamlit) (2025.2)\n",
            "Requirement already satisfied: tzdata>=2022.7 in /usr/local/lib/python3.12/dist-packages (from pandas<3,>=1.4.0->streamlit) (2025.2)\n",
            "Requirement already satisfied: charset_normalizer<4,>=2 in /usr/local/lib/python3.12/dist-packages (from requests<3,>=2.27->streamlit) (3.4.3)\n",
            "Requirement already satisfied: idna<4,>=2.5 in /usr/local/lib/python3.12/dist-packages (from requests<3,>=2.27->streamlit) (3.10)\n",
            "Requirement already satisfied: urllib3<3,>=1.21.1 in /usr/local/lib/python3.12/dist-packages (from requests<3,>=2.27->streamlit) (2.5.0)\n",
            "Requirement already satisfied: certifi>=2017.4.17 in /usr/local/lib/python3.12/dist-packages (from requests<3,>=2.27->streamlit) (2025.10.5)\n",
            "Requirement already satisfied: smmap<6,>=3.0.1 in /usr/local/lib/python3.12/dist-packages (from gitdb<5,>=4.0.1->gitpython!=3.1.19,<4,>=3.0.7->streamlit) (5.0.2)\n",
            "Requirement already satisfied: MarkupSafe>=2.0 in /usr/local/lib/python3.12/dist-packages (from jinja2->altair!=5.4.0,!=5.4.1,<6,>=4.0->streamlit) (3.0.3)\n",
            "Requirement already satisfied: attrs>=22.2.0 in /usr/local/lib/python3.12/dist-packages (from jsonschema>=3.0->altair!=5.4.0,!=5.4.1,<6,>=4.0->streamlit) (25.4.0)\n",
            "Requirement already satisfied: jsonschema-specifications>=2023.03.6 in /usr/local/lib/python3.12/dist-packages (from jsonschema>=3.0->altair!=5.4.0,!=5.4.1,<6,>=4.0->streamlit) (2025.9.1)\n",
            "Requirement already satisfied: referencing>=0.28.4 in /usr/local/lib/python3.12/dist-packages (from jsonschema>=3.0->altair!=5.4.0,!=5.4.1,<6,>=4.0->streamlit) (0.36.2)\n",
            "Requirement already satisfied: rpds-py>=0.7.1 in /usr/local/lib/python3.12/dist-packages (from jsonschema>=3.0->altair!=5.4.0,!=5.4.1,<6,>=4.0->streamlit) (0.27.1)\n",
            "Requirement already satisfied: six>=1.5 in /usr/local/lib/python3.12/dist-packages (from python-dateutil>=2.8.2->pandas<3,>=1.4.0->streamlit) (1.17.0)\n",
            "Downloading streamlit-1.50.0-py3-none-any.whl (10.1 MB)\n",
            "\u001b[2K   \u001b[90m━━━━━━━━━━━━━━━━━━━━━━━━━━━━━━━━━━━━━━━━\u001b[0m \u001b[32m10.1/10.1 MB\u001b[0m \u001b[31m71.8 MB/s\u001b[0m eta \u001b[36m0:00:00\u001b[0m\n",
            "\u001b[?25hDownloading pyngrok-7.4.0-py3-none-any.whl (25 kB)\n",
            "Downloading pydeck-0.9.1-py2.py3-none-any.whl (6.9 MB)\n",
            "\u001b[2K   \u001b[90m━━━━━━━━━━━━━━━━━━━━━━━━━━━━━━━━━━━━━━━━\u001b[0m \u001b[32m6.9/6.9 MB\u001b[0m \u001b[31m87.1 MB/s\u001b[0m eta \u001b[36m0:00:00\u001b[0m\n",
            "\u001b[?25hInstalling collected packages: pyngrok, pydeck, streamlit\n",
            "Successfully installed pydeck-0.9.1 pyngrok-7.4.0 streamlit-1.50.0\n"
          ]
        }
      ]
    },
    {
      "cell_type": "code",
      "source": [
        "import google.generativeai as genai\n",
        "\n",
        "# Pilih model (misalnya Gemini 1.5 Flash — cepat dan gratis)\n",
        "embedding_model = \"models/text-embedding-004\"\n",
        "model = genai.GenerativeModel(\"models/gemini-2.0-flash\")\n",
        "model_list = genai.list_models()\n",
        "for m in model_list:\n",
        "    print(m.name)"
      ],
      "metadata": {
        "colab": {
          "base_uri": "https://localhost:8080/",
          "height": 1000
        },
        "id": "zbr6btDPrups",
        "outputId": "c29516dc-310e-4b17-da97-130841e40e4d"
      },
      "execution_count": null,
      "outputs": [
        {
          "output_type": "stream",
          "name": "stdout",
          "text": [
            "models/embedding-gecko-001\n",
            "models/gemini-2.5-pro-preview-03-25\n",
            "models/gemini-2.5-flash-preview-05-20\n",
            "models/gemini-2.5-flash\n",
            "models/gemini-2.5-flash-lite-preview-06-17\n",
            "models/gemini-2.5-pro-preview-05-06\n",
            "models/gemini-2.5-pro-preview-06-05\n",
            "models/gemini-2.5-pro\n",
            "models/gemini-2.0-flash-exp\n",
            "models/gemini-2.0-flash\n",
            "models/gemini-2.0-flash-001\n",
            "models/gemini-2.0-flash-exp-image-generation\n",
            "models/gemini-2.0-flash-lite-001\n",
            "models/gemini-2.0-flash-lite\n",
            "models/gemini-2.0-flash-preview-image-generation\n",
            "models/gemini-2.0-flash-lite-preview-02-05\n",
            "models/gemini-2.0-flash-lite-preview\n",
            "models/gemini-2.0-pro-exp\n",
            "models/gemini-2.0-pro-exp-02-05\n",
            "models/gemini-exp-1206\n",
            "models/gemini-2.0-flash-thinking-exp-01-21\n",
            "models/gemini-2.0-flash-thinking-exp\n",
            "models/gemini-2.0-flash-thinking-exp-1219\n",
            "models/gemini-2.5-flash-preview-tts\n",
            "models/gemini-2.5-pro-preview-tts\n",
            "models/learnlm-2.0-flash-experimental\n",
            "models/gemma-3-1b-it\n",
            "models/gemma-3-4b-it\n",
            "models/gemma-3-12b-it\n",
            "models/gemma-3-27b-it\n",
            "models/gemma-3n-e4b-it\n",
            "models/gemma-3n-e2b-it\n",
            "models/gemini-flash-latest\n",
            "models/gemini-flash-lite-latest\n",
            "models/gemini-pro-latest\n",
            "models/gemini-2.5-flash-lite\n",
            "models/gemini-2.5-flash-image-preview\n",
            "models/gemini-2.5-flash-image\n",
            "models/gemini-2.5-flash-preview-09-2025\n",
            "models/gemini-2.5-flash-lite-preview-09-2025\n",
            "models/gemini-robotics-er-1.5-preview\n",
            "models/gemini-2.5-computer-use-preview-10-2025\n",
            "models/embedding-001\n",
            "models/text-embedding-004\n",
            "models/gemini-embedding-exp-03-07\n",
            "models/gemini-embedding-exp\n",
            "models/gemini-embedding-001\n",
            "models/aqa\n",
            "models/imagen-3.0-generate-002\n",
            "models/imagen-4.0-generate-preview-06-06\n",
            "models/imagen-4.0-ultra-generate-preview-06-06\n",
            "models/imagen-4.0-generate-001\n",
            "models/imagen-4.0-ultra-generate-001\n",
            "models/imagen-4.0-fast-generate-001\n",
            "models/veo-2.0-generate-001\n",
            "models/veo-3.0-generate-preview\n",
            "models/veo-3.0-fast-generate-preview\n",
            "models/veo-3.0-generate-001\n",
            "models/veo-3.0-fast-generate-001\n",
            "models/gemini-2.5-flash-preview-native-audio-dialog\n",
            "models/gemini-2.5-flash-exp-native-audio-thinking-dialog\n",
            "models/gemini-2.0-flash-live-001\n",
            "models/gemini-live-2.5-flash-preview\n",
            "models/gemini-2.5-flash-live-preview\n",
            "models/gemini-2.5-flash-native-audio-latest\n",
            "models/gemini-2.5-flash-native-audio-preview-09-2025\n"
          ]
        }
      ]
    },
    {
      "cell_type": "code",
      "source": [
        "%%writefile chatbot_contract_rag.py\n",
        "import streamlit as st\n",
        "import pandas as pd\n",
        "import numpy as np\n",
        "import os\n",
        "import random\n",
        "import faiss\n",
        "import google.generativeai as genai\n",
        "\n",
        "# ==========================\n",
        "# 🔐 Konfigurasi API Key\n",
        "# ==========================\n",
        "genai.configure(api_key=os.getenv(\"api_token_gemini_LLM\"))\n",
        "embedding_model = \"models/text-embedding-004\"\n",
        "model = genai.GenerativeModel(\"models/gemini-2.5-pro\")\n",
        "\n",
        "# ==========================\n",
        "# ⚙️ Fungsi Retrieve & RAG\n",
        "# ==========================\n",
        "def retrieve(query, target_doc=None, top_k=3):\n",
        "    query_emb = genai.embed_content(model=embedding_model, content=query)[\"embedding\"]\n",
        "    query_emb = np.array([query_emb]).astype(\"float32\")\n",
        "    distances, indices = index.search(query_emb, top_k)\n",
        "\n",
        "    if target_doc:\n",
        "        filtered = chunks_df[chunks_df[\"filename\"] == target_doc]\n",
        "        return filtered.iloc[indices[0]][\"text\"].tolist()\n",
        "    else:\n",
        "        return [chunks_df.iloc[i][\"text\"] for i in indices[0]]\n",
        "\n",
        "def ask_gemini_rag(question, context, style=\"informative\"):\n",
        "    style_prompts = {\n",
        "        \"formal\": \"Gunakan gaya bahasa hukum yang formal dan profesional.\",\n",
        "        \"natural\": \"Gunakan gaya bahasa alami seperti percakapan sehari-hari.\",\n",
        "        \"ringkas\": \"Berikan jawaban singkat dan langsung ke poin utama.\",\n",
        "        \"informative\": \"Berikan jawaban yang jelas, padat, dan disertai konteks tambahan bila relevan.\"\n",
        "    }\n",
        "\n",
        "    prompt = f\"\"\"\n",
        "    Kamu adalah asisten hukum cerdas yang membantu menjelaskan isi kontrak pembiayaan.\n",
        "    {style_prompts.get(style, style_prompts[\"informative\"])}\n",
        "\n",
        "    Berdasarkan konteks berikut:\n",
        "    {context}\n",
        "\n",
        "    Pertanyaan: {question}\n",
        "\n",
        "    Jawaban dalam Bahasa Indonesia secara informatif.\n",
        "    \"\"\"\n",
        "\n",
        "    response = model.generate_content(prompt)\n",
        "    return response.text\n",
        "\n",
        "# ==========================\n",
        "# 🎯 Generator Pertanyaan\n",
        "# ==========================\n",
        "def generate_questions(topic, n=3):\n",
        "    variations = {\n",
        "        \"pihak kontrak\": [\n",
        "            \"Siapa pihak-pihak yang terlibat dalam perjanjian ini?\",\n",
        "            \"Sebutkan siapa peminjam dan pemberi pinjaman dalam kontrak ini.\",\n",
        "            \"Pihak mana saja yang disebutkan dalam kontrak pembiayaan ini?\",\n",
        "            \"Siapa saja yang menandatangani perjanjian ini?\",\n",
        "            \"Siapa pihak yang menerima pembiayaan dan pihak yang memberikan pembiayaan?\"\n",
        "        ],\n",
        "        \"pembayaran\": [\n",
        "            \"Bagaimana sistem pembayaran diatur dalam kontrak ini?\",\n",
        "            \"Berapa jangka waktu dan jumlah cicilan yang disepakati?\",\n",
        "            \"Bagaimana ketentuan pembayaran dijelaskan oleh kontrak?\",\n",
        "            \"Apakah pembayaran dilakukan setiap bulan atau sesuai kesepakatan tertentu?\",\n",
        "            \"Ceritakan bagaimana proses pembayaran dijelaskan dalam perjanjian ini.\"\n",
        "        ],\n",
        "        \"bunga\": [\n",
        "            \"Berapa tingkat bunga yang ditetapkan dalam kontrak?\",\n",
        "            \"Apakah terdapat bunga tambahan atau penyesuaian tahunan?\",\n",
        "            \"Bagaimana suku bunga dihitung dalam perjanjian pembiayaan ini?\",\n",
        "            \"Apakah tingkat bunga bersifat tetap atau berubah?\",\n",
        "            \"Bagaimana cara penentuan bunga dijelaskan dalam kontrak?\"\n",
        "        ],\n",
        "        \"denda\": [\n",
        "            \"Apa yang terjadi jika peminjam terlambat membayar cicilan?\",\n",
        "            \"Apakah ada denda atau penalti atas keterlambatan pembayaran?\",\n",
        "            \"Bagaimana kontrak mengatur konsekuensi keterlambatan pembayaran?\",\n",
        "            \"Berapa besar denda yang dikenakan jika terjadi pelanggaran?\",\n",
        "            \"Apakah kontrak menyebutkan sanksi terkait keterlambatan pembayaran?\"\n",
        "        ],\n",
        "        \"jaminan\": [\n",
        "            \"Apa bentuk jaminan yang diberikan oleh peminjam?\",\n",
        "            \"Bagaimana jaminan atau agunan diatur dalam kontrak ini?\",\n",
        "            \"Siapa yang memegang hak atas jaminan sampai pembiayaan lunas?\",\n",
        "            \"Apakah aset yang dibiayai dijadikan jaminan?\",\n",
        "            \"Bagaimana proses eksekusi jaminan dijelaskan dalam perjanjian?\"\n",
        "        ],\n",
        "        \"hukum\": [\n",
        "            \"Pengadilan mana yang berwenang menyelesaikan sengketa?\",\n",
        "            \"Bagaimana kontrak mengatur yurisdiksi hukum?\",\n",
        "            \"Apakah ada klausul yang menetapkan wilayah hukum tertentu?\",\n",
        "            \"Jika terjadi sengketa, di mana perkara akan diselesaikan?\",\n",
        "            \"Bagaimana ketentuan hukum dijelaskan dalam kontrak ini?\"\n",
        "        ]\n",
        "    }\n",
        "    if topic not in variations:\n",
        "        return [\"Topik tidak dikenal.\"]\n",
        "    return random.sample(variations[topic], n)\n",
        "\n",
        "# ==========================\n",
        "# 🧠 Streamlit UI\n",
        "# ==========================\n",
        "st.title(\"📜 Legal Contract Chatbot (RAG)\")\n",
        "\n",
        "artifact_folder = \"artifacts\"\n",
        "index = faiss.read_index(os.path.join(artifact_folder, \"faiss.index\"))\n",
        "chunks_df = pd.read_parquet(os.path.join(artifact_folder, \"chunks.parquet\"))\n",
        "\n",
        "contracts = sorted(chunks_df[\"filename\"].unique())\n",
        "target_doc = st.selectbox(\"Pilih kontrak yang ingin dianalisis:\", contracts)\n",
        "\n",
        "style = st.selectbox(\"Pilih gaya jawaban:\", [\"informative\", \"formal\", \"natural\", \"ringkas\"])\n",
        "mode = st.radio(\"Mode tanya:\", [\"Ketik pertanyaan sendiri\", \"Gunakan pertanyaan otomatis\"])\n",
        "\n",
        "if mode == \"Ketik pertanyaan sendiri\":\n",
        "    user_question = st.text_input(\"Masukkan pertanyaan Anda:\")\n",
        "    if st.button(\"Tanyakan\"):\n",
        "        docs = retrieve(user_question, target_doc)\n",
        "        context = \"\\n\\n\".join(docs)\n",
        "        answer = ask_gemini_rag(user_question, context, style)\n",
        "        st.markdown(\"### 💬 Jawaban:\")\n",
        "        st.write(answer)\n",
        "\n",
        "else:\n",
        "    topic = st.selectbox(\"Pilih topik:\", [\"pihak kontrak\", \"pembayaran\", \"bunga\", \"denda\", \"jaminan\", \"hukum\"])\n",
        "    if st.button(\"Generate pertanyaan\"):\n",
        "        auto_qs = generate_questions(topic)\n",
        "        for q in auto_qs:\n",
        "            st.markdown(f\"**❓ {q}**\")\n",
        "            docs = retrieve(q, target_doc)\n",
        "            context = \"\\n\\n\".join(docs)\n",
        "            answer = ask_gemini_rag(q, context, style)\n",
        "            st.markdown(f\"🧠 **Jawaban:** {answer}\")\n",
        "            st.divider()\n"
      ],
      "metadata": {
        "colab": {
          "base_uri": "https://localhost:8080/"
        },
        "id": "2WMLT7M8rixx",
        "outputId": "592b8689-1bfc-42e1-cf38-a53ffb993b46"
      },
      "execution_count": null,
      "outputs": [
        {
          "output_type": "stream",
          "name": "stdout",
          "text": [
            "Writing chatbot_contract_rag.py\n"
          ]
        }
      ]
    },
    {
      "cell_type": "code",
      "source": [
        "!pip install pyngrok\n",
        "from pyngrok import ngrok\n",
        "!ngrok authtoken \"32sKv0iM25HMW12YpC7JHXRGLrq_2mUnXGaYVXe82UfqD4FfM\""
      ],
      "metadata": {
        "colab": {
          "base_uri": "https://localhost:8080/"
        },
        "id": "zRoPqRZ1siLX",
        "outputId": "82cb3053-7c99-47b5-df8c-67ff1d7f6851"
      },
      "execution_count": null,
      "outputs": [
        {
          "output_type": "stream",
          "name": "stdout",
          "text": [
            "Requirement already satisfied: pyngrok in /usr/local/lib/python3.12/dist-packages (7.4.0)\n",
            "Requirement already satisfied: PyYAML>=5.1 in /usr/local/lib/python3.12/dist-packages (from pyngrok) (6.0.3)\n",
            "Authtoken saved to configuration file: /root/.config/ngrok/ngrok.yml\n"
          ]
        }
      ]
    },
    {
      "cell_type": "code",
      "source": [
        "!pip install pyngrok\n",
        "from pyngrok import ngrok\n",
        "\n",
        "# Jalankan Streamlit di background\n",
        "!streamlit run chatbot_contract_rag.py --server.port 8501 &\n",
        "\n",
        "# Buat tunnel agar bisa diakses dari luar\n",
        "public_url = ngrok.connect(8501)\n",
        "public_url\n"
      ],
      "metadata": {
        "colab": {
          "base_uri": "https://localhost:8080/"
        },
        "id": "vlf0GM2UsAKo",
        "outputId": "14fcc316-94ef-456d-a95d-ad55f04b5f79"
      },
      "execution_count": null,
      "outputs": [
        {
          "output_type": "stream",
          "name": "stdout",
          "text": [
            "Requirement already satisfied: pyngrok in /usr/local/lib/python3.12/dist-packages (7.4.0)\n",
            "Requirement already satisfied: PyYAML>=5.1 in /usr/local/lib/python3.12/dist-packages (from pyngrok) (6.0.3)\n",
            "\n",
            "Collecting usage statistics. To deactivate, set browser.gatherUsageStats to false.\n",
            "\u001b[0m\n",
            "\u001b[0m\n",
            "\u001b[34m\u001b[1m  You can now view your Streamlit app in your browser.\u001b[0m\n",
            "\u001b[0m\n",
            "\u001b[34m  Local URL: \u001b[0m\u001b[1mhttp://localhost:8501\u001b[0m\n",
            "\u001b[34m  Network URL: \u001b[0m\u001b[1mhttp://172.28.0.12:8501\u001b[0m\n",
            "\u001b[34m  External URL: \u001b[0m\u001b[1mhttp://34.57.139.250:8501\u001b[0m\n",
            "\u001b[0m\n",
            "\u001b[34m  Stopping...\u001b[0m\n"
          ]
        },
        {
          "output_type": "execute_result",
          "data": {
            "text/plain": [
              "<NgrokTunnel: \"https://75d323a543ae.ngrok-free.app\" -> \"http://localhost:8501\">"
            ]
          },
          "metadata": {},
          "execution_count": 41
        }
      ]
    }
  ]
}